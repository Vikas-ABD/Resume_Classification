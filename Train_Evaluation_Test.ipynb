{
  "nbformat": 4,
  "nbformat_minor": 0,
  "metadata": {
    "colab": {
      "provenance": [],
      "gpuType": "T4"
    },
    "kernelspec": {
      "name": "python3",
      "display_name": "Python 3"
    },
    "language_info": {
      "name": "python"
    },
    "accelerator": "GPU"
  },
  "cells": [
    {
      "cell_type": "code",
      "execution_count": 2,
      "metadata": {
        "colab": {
          "base_uri": "https://localhost:8080/",
          "height": 313
        },
        "id": "J4sTArU28O4g",
        "outputId": "4f145883-98f0-4d01-d636-21286039b56e"
      },
      "outputs": [
        {
          "output_type": "stream",
          "name": "stdout",
          "text": [
            "Requirement already satisfied: gdown in /usr/local/lib/python3.10/dist-packages (4.6.6)\n",
            "Requirement already satisfied: filelock in /usr/local/lib/python3.10/dist-packages (from gdown) (3.13.1)\n",
            "Requirement already satisfied: requests[socks] in /usr/local/lib/python3.10/dist-packages (from gdown) (2.31.0)\n",
            "Requirement already satisfied: six in /usr/local/lib/python3.10/dist-packages (from gdown) (1.16.0)\n",
            "Requirement already satisfied: tqdm in /usr/local/lib/python3.10/dist-packages (from gdown) (4.66.1)\n",
            "Requirement already satisfied: beautifulsoup4 in /usr/local/lib/python3.10/dist-packages (from gdown) (4.11.2)\n",
            "Requirement already satisfied: soupsieve>1.2 in /usr/local/lib/python3.10/dist-packages (from beautifulsoup4->gdown) (2.5)\n",
            "Requirement already satisfied: charset-normalizer<4,>=2 in /usr/local/lib/python3.10/dist-packages (from requests[socks]->gdown) (3.3.2)\n",
            "Requirement already satisfied: idna<4,>=2.5 in /usr/local/lib/python3.10/dist-packages (from requests[socks]->gdown) (3.6)\n",
            "Requirement already satisfied: urllib3<3,>=1.21.1 in /usr/local/lib/python3.10/dist-packages (from requests[socks]->gdown) (2.0.7)\n",
            "Requirement already satisfied: certifi>=2017.4.17 in /usr/local/lib/python3.10/dist-packages (from requests[socks]->gdown) (2023.11.17)\n",
            "Requirement already satisfied: PySocks!=1.5.7,>=1.5.6 in /usr/local/lib/python3.10/dist-packages (from requests[socks]->gdown) (1.7.1)\n"
          ]
        },
        {
          "output_type": "stream",
          "name": "stderr",
          "text": [
            "Downloading...\n",
            "From: https://drive.google.com/uc?id=1Lkijp_uhdROHhc6MBQrRDF2Xmee8OIEB\n",
            "To: /content/DATA.zip\n",
            "100%|██████████| 200M/200M [00:04<00:00, 41.3MB/s]\n"
          ]
        },
        {
          "output_type": "execute_result",
          "data": {
            "text/plain": [
              "'/content/DATA.zip'"
            ],
            "application/vnd.google.colaboratory.intrinsic+json": {
              "type": "string"
            }
          },
          "metadata": {},
          "execution_count": 2
        }
      ],
      "source": [
        "!pip install gdown\n",
        "\n",
        "import gdown\n",
        "import shutil\n",
        "\n",
        "# Destination directory where the user will download the data https://drive.google.com/file/d/1Lkijp_uhdROHhc6MBQrRDF2Xmee8OIEB/view?usp=sharing\n",
        "destination_path = '/content'\n",
        "\n",
        "# Direct download link for the ZIP file\n",
        "folder_id ='1Lkijp_uhdROHhc6MBQrRDF2Xmee8OIEB'\n",
        "zip_file_url = f'https://drive.google.com/uc?id={folder_id}'\n",
        "\n",
        "\n",
        "# Download the ZIP file\n",
        "zip_file_path = destination_path + '/DATA.zip'\n",
        "gdown.download(zip_file_url, zip_file_path, quiet=False)"
      ]
    },
    {
      "cell_type": "code",
      "source": [
        "# Extract the downloaded ZIP file\n",
        "shutil.unpack_archive(zip_file_path, destination_path)\n",
        "\n",
        "print(\"Data has been downloaded and extracted to:\", destination_path)"
      ],
      "metadata": {
        "colab": {
          "base_uri": "https://localhost:8080/"
        },
        "id": "sEJHk-uU9tix",
        "outputId": "6552c5bd-3fdb-431b-cd78-6bb57d4ea8eb"
      },
      "execution_count": 3,
      "outputs": [
        {
          "output_type": "stream",
          "name": "stdout",
          "text": [
            "Data has been downloaded and extracted to: /content\n"
          ]
        }
      ]
    },
    {
      "cell_type": "code",
      "source": [
        "import os\n",
        "\n",
        "# Replace 'folder1_path' and 'folder2_path' with the actual paths of your two folders\n",
        "folder1_path = '/content/Not_Resume'\n",
        "folder2_path = '/content/Resume'\n",
        "\n",
        "# Create a new folder named 'DATA'\n",
        "data_folder_path = '/content/DATA'\n",
        "os.makedirs(data_folder_path, exist_ok=True)\n",
        "\n",
        "# Move the existing folders into the 'DATA' folder\n",
        "shutil.move(folder1_path, data_folder_path)\n",
        "shutil.move(folder2_path, data_folder_path)\n"
      ],
      "metadata": {
        "colab": {
          "base_uri": "https://localhost:8080/",
          "height": 35
        },
        "id": "WaBbtKbA-F_u",
        "outputId": "e4dbda13-2df3-463d-9725-918df764c1ac"
      },
      "execution_count": 4,
      "outputs": [
        {
          "output_type": "execute_result",
          "data": {
            "text/plain": [
              "'/content/DATA/Resume'"
            ],
            "application/vnd.google.colaboratory.intrinsic+json": {
              "type": "string"
            }
          },
          "metadata": {},
          "execution_count": 4
        }
      ]
    },
    {
      "cell_type": "code",
      "source": [
        "import os\n",
        "\n",
        "# Set the path to the parent folder where Test_DATA will be created\n",
        "parent_folder = '/content'\n",
        "\n",
        "# Create Test_DATA folder\n",
        "test_data_folder = os.path.join(parent_folder, 'Test_DATA')\n",
        "os.makedirs(test_data_folder, exist_ok=True)\n",
        "\n",
        "# Create Resume folder inside Test_DATA\n",
        "resume_folder = os.path.join(test_data_folder, 'Resume')\n",
        "os.makedirs(resume_folder, exist_ok=True)\n",
        "\n",
        "# Create Not_Resume folder inside Test_DATA\n",
        "not_resume_folder = os.path.join(test_data_folder, 'Not_Resume')\n",
        "os.makedirs(not_resume_folder, exist_ok=True)\n",
        "\n",
        "print(f\"Folder structure created: {parent_folder}/Test_DATA/Resume and {parent_folder}/Test_DATA/Not_Resume\")"
      ],
      "metadata": {
        "colab": {
          "base_uri": "https://localhost:8080/"
        },
        "id": "6UZKybnTOwRv",
        "outputId": "3346e964-ab90-443e-97a9-9694007fec2f"
      },
      "execution_count": 5,
      "outputs": [
        {
          "output_type": "stream",
          "name": "stdout",
          "text": [
            "Folder structure created: /content/Test_DATA/Resume and /content/Test_DATA/Not_Resume\n"
          ]
        }
      ]
    },
    {
      "cell_type": "code",
      "source": [
        "import shutil\n",
        "import random\n",
        "\n",
        "def move_images(source_folder, destination_folder, category, num_images):\n",
        "    files = random.sample(os.listdir(os.path.join(source_folder, category)), num_images)\n",
        "    destination_path = os.path.join(destination_folder, category)\n",
        "\n",
        "    # Create destination folder if it doesn't exist\n",
        "    os.makedirs(destination_path, exist_ok=True)\n",
        "\n",
        "    for file in files:\n",
        "        source_path = os.path.join(source_folder, category, file)\n",
        "        shutil.move(source_path, os.path.join(destination_path, file))\n",
        "\n",
        "# Set your source and destination folders\n",
        "source_folder = '/content/DATA'\n",
        "destination_folder = '/content/Test_DATA'\n",
        "num_images_to_move = 60\n",
        "\n",
        "# Move images from Resume folder\n",
        "move_images(source_folder, destination_folder, 'Resume', num_images_to_move)\n",
        "\n",
        "# Move images from Not_Resume folder\n",
        "move_images(source_folder, destination_folder, 'Not_Resume', num_images_to_move)"
      ],
      "metadata": {
        "id": "TNXzG5V2O3G8"
      },
      "execution_count": 6,
      "outputs": []
    },
    {
      "cell_type": "markdown",
      "source": [
        "# Data Processing"
      ],
      "metadata": {
        "id": "uOfptL8l-_xa"
      }
    },
    {
      "cell_type": "code",
      "source": [
        "import numpy as np\n",
        "\n",
        "#Set the `numpy` pseudo-random generator at a fixed value\n",
        "#This helps with repeatable results everytime you run the code.\n",
        "np.random.seed(1000)\n",
        "\n",
        "import matplotlib.pyplot as plt\n",
        "import os\n",
        "import cv2\n",
        "from PIL import Image\n",
        "import keras\n",
        "import tensorflow as tf"
      ],
      "metadata": {
        "id": "1yMUpVXz_BNC"
      },
      "execution_count": 7,
      "outputs": []
    },
    {
      "cell_type": "code",
      "source": [
        "from keras.preprocessing.image import ImageDataGenerator\n",
        "\n",
        "# Specify the path to your data\n",
        "data_path = '/content/DATA'\n",
        "\n",
        "# Create an ImageDataGenerator with rescaling and other augmentations if needed\n",
        "datagen = ImageDataGenerator(rescale=1./255, validation_split=0.1)\n",
        "\n",
        "# Create separate generators for training, validation, and test\n",
        "train_generator = datagen.flow_from_directory(\n",
        "    data_path,\n",
        "    target_size=(640, 640),\n",
        "    batch_size=4,\n",
        "    class_mode='binary',\n",
        "    subset='training'  # Use subset parameter for the training set\n",
        ")\n",
        "\n",
        "validation_generator = datagen.flow_from_directory(\n",
        "    data_path,\n",
        "    target_size=(640, 640),\n",
        "    batch_size=4,\n",
        "    class_mode='binary',\n",
        "    subset='validation'  # Use subset parameter for the validation set\n",
        ")\n"
      ],
      "metadata": {
        "colab": {
          "base_uri": "https://localhost:8080/"
        },
        "id": "zwYqqoDEA9Gp",
        "outputId": "14f7fc2f-2404-4def-ff94-aae965823ade"
      },
      "execution_count": 8,
      "outputs": [
        {
          "output_type": "stream",
          "name": "stdout",
          "text": [
            "Found 437 images belonging to 2 classes.\n",
            "Found 48 images belonging to 2 classes.\n"
          ]
        }
      ]
    },
    {
      "cell_type": "code",
      "source": [
        "# Specify the path to your data\n",
        "test_data_path = '/content/Test_DATA'\n",
        "# Create an ImageDataGenerator with rescaling and other augmentations if needed\n",
        "datagen = ImageDataGenerator(rescale=1./255)\n",
        "# Create separate generators for training, validation, and test\n",
        "test_generator = datagen.flow_from_directory(\n",
        "    test_data_path,\n",
        "    target_size=(640, 640),\n",
        "    batch_size=4,\n",
        "    class_mode='binary' # Use subset parameter for the test set\n",
        ")\n",
        "\n"
      ],
      "metadata": {
        "colab": {
          "base_uri": "https://localhost:8080/"
        },
        "id": "Za2UUDUbPRjo",
        "outputId": "7ac89a12-8981-47d2-a1d3-abf9eb23b9fe"
      },
      "execution_count": 29,
      "outputs": [
        {
          "output_type": "stream",
          "name": "stdout",
          "text": [
            "Found 120 images belonging to 2 classes.\n"
          ]
        }
      ]
    },
    {
      "cell_type": "code",
      "source": [],
      "metadata": {
        "id": "GFX3bQ8ZBOCg"
      },
      "execution_count": null,
      "outputs": []
    },
    {
      "cell_type": "markdown",
      "source": [
        "# model"
      ],
      "metadata": {
        "id": "TTT2nwuK_hKH"
      }
    },
    {
      "cell_type": "code",
      "source": [
        "#Apply CNN\n",
        "# ### Build the model\n",
        "\n",
        "#############################################################\n",
        "###2 conv and pool layers. with some normalization and drops in between.\n",
        "\n",
        "INPUT_SHAPE = (640, 640, 3)   #change to (SIZE, SIZE, 3)\n",
        "inp = keras.layers.Input(shape=INPUT_SHAPE)\n",
        "\n",
        "conv1 = keras.layers.Conv2D(32, kernel_size=(3, 3),\n",
        "                               activation='relu', padding='same')(inp)\n",
        "pool1 = keras.layers.MaxPooling2D(pool_size=(2, 2))(conv1)\n",
        "norm1 = keras.layers.BatchNormalization(axis = -1)(pool1)\n",
        "drop1 = keras.layers.Dropout(rate=0.2)(norm1)\n",
        "conv2 = keras.layers.Conv2D(32, kernel_size=(3, 3),\n",
        "                               activation='relu', padding='same')(drop1)\n",
        "pool2 = keras.layers.MaxPooling2D(pool_size=(2, 2))(conv2)\n",
        "norm2 = keras.layers.BatchNormalization(axis = -1)(pool2)\n",
        "drop2 = keras.layers.Dropout(rate=0.2)(norm2)\n",
        "\n",
        "flat = keras.layers.Flatten()(drop2)  #Flatten the matrix to get it ready for dense.\n",
        "\n",
        "hidden1 = keras.layers.Dense(512, activation='relu')(flat)\n",
        "norm3 = keras.layers.BatchNormalization(axis = -1)(hidden1)\n",
        "drop3 = keras.layers.Dropout(rate=0.2)(norm3)\n",
        "hidden2 = keras.layers.Dense(256, activation='relu')(drop3)\n",
        "norm4 = keras.layers.BatchNormalization(axis = -1)(hidden2)\n",
        "drop4 = keras.layers.Dropout(rate=0.2)(norm4)\n",
        "\n",
        "out = keras.layers.Dense(1, activation='sigmoid')(drop4)   #units=1 gives error\n",
        "\n",
        "model = keras.Model(inputs=inp, outputs=out)\n",
        "model.compile(optimizer='adam',\n",
        "                loss='binary_crossentropy',   #Check between binary_crossentropy and categorical_crossentropy\n",
        "                metrics=['accuracy'])\n",
        "print(model.summary())"
      ],
      "metadata": {
        "id": "UCjJiOPB_a0N"
      },
      "execution_count": null,
      "outputs": []
    },
    {
      "cell_type": "code",
      "source": [
        "from tensorflow.keras.applications import DenseNet121\n",
        "from tensorflow.keras import layers, models\n",
        "\n",
        "INPUT_SHAPE = (640, 640, 3)\n",
        "\n",
        "base_model = DenseNet121(weights='imagenet', include_top=False, input_shape=INPUT_SHAPE)\n",
        "\n",
        "for layer in base_model.layers:\n",
        "    layer.trainable = False\n",
        "\n",
        "model = models.Sequential()\n",
        "model.add(base_model)\n",
        "model.add(layers.GlobalAveragePooling2D())\n",
        "model.add(layers.Dense(512, activation='relu'))\n",
        "model.add(layers.BatchNormalization())\n",
        "model.add(layers.Dropout(0.2))\n",
        "model.add(layers.Dense(256, activation='relu'))\n",
        "model.add(layers.BatchNormalization())\n",
        "model.add(layers.Dropout(0.2))\n",
        "model.add(layers.Dense(1, activation='sigmoid'))\n",
        "\n",
        "model.compile(optimizer='adam',\n",
        "              loss='binary_crossentropy',\n",
        "              metrics=['accuracy'])\n"
      ],
      "metadata": {
        "id": "0WQKnTQtVW-C"
      },
      "execution_count": 32,
      "outputs": []
    },
    {
      "cell_type": "code",
      "source": [
        "from keras.callbacks import ModelCheckpoint\n",
        "\n",
        "# Fit the model using the generators with ModelCheckpoint callback\n",
        "history = model.fit(\n",
        "    train_generator,\n",
        "    steps_per_epoch=train_generator.samples // train_generator.batch_size,\n",
        "    epochs=100,\n",
        "    validation_data=validation_generator,\n",
        "    validation_steps=validation_generator.samples // validation_generator.batch_size # add the ModelCheckpoint callback to the list of callbacks\n",
        ")\n"
      ],
      "metadata": {
        "colab": {
          "base_uri": "https://localhost:8080/"
        },
        "id": "G68T6xRG_n2J",
        "outputId": "e80268dd-25f6-4632-f387-4a7cd3c2b355"
      },
      "execution_count": 26,
      "outputs": [
        {
          "output_type": "stream",
          "name": "stdout",
          "text": [
            "Epoch 1/100\n",
            "109/109 [==============================] - 35s 169ms/step - loss: 0.4931 - accuracy: 0.7945 - val_loss: 0.2787 - val_accuracy: 0.9375\n",
            "Epoch 2/100\n",
            "109/109 [==============================] - 15s 133ms/step - loss: 0.2792 - accuracy: 0.8845 - val_loss: 0.0686 - val_accuracy: 1.0000\n",
            "Epoch 3/100\n",
            "109/109 [==============================] - 14s 130ms/step - loss: 0.4001 - accuracy: 0.8222 - val_loss: 0.0758 - val_accuracy: 0.9792\n",
            "Epoch 4/100\n",
            "109/109 [==============================] - 14s 129ms/step - loss: 0.2957 - accuracy: 0.8776 - val_loss: 0.0655 - val_accuracy: 1.0000\n",
            "Epoch 5/100\n",
            "109/109 [==============================] - 14s 127ms/step - loss: 0.2961 - accuracy: 0.8845 - val_loss: 0.0705 - val_accuracy: 0.9583\n",
            "Epoch 6/100\n",
            "109/109 [==============================] - 14s 129ms/step - loss: 0.2590 - accuracy: 0.9007 - val_loss: 0.0252 - val_accuracy: 1.0000\n",
            "Epoch 7/100\n",
            "109/109 [==============================] - 15s 137ms/step - loss: 0.2465 - accuracy: 0.9030 - val_loss: 0.0463 - val_accuracy: 0.9792\n",
            "Epoch 8/100\n",
            "109/109 [==============================] - 14s 132ms/step - loss: 0.2371 - accuracy: 0.9076 - val_loss: 0.0453 - val_accuracy: 1.0000\n",
            "Epoch 9/100\n",
            "109/109 [==============================] - 14s 129ms/step - loss: 0.2667 - accuracy: 0.9030 - val_loss: 0.0700 - val_accuracy: 0.9792\n",
            "Epoch 10/100\n",
            "109/109 [==============================] - 15s 139ms/step - loss: 0.2071 - accuracy: 0.9284 - val_loss: 0.0586 - val_accuracy: 0.9792\n",
            "Epoch 11/100\n",
            "109/109 [==============================] - 14s 127ms/step - loss: 0.2286 - accuracy: 0.9007 - val_loss: 0.0273 - val_accuracy: 1.0000\n",
            "Epoch 12/100\n",
            "109/109 [==============================] - 14s 128ms/step - loss: 0.2847 - accuracy: 0.8915 - val_loss: 0.0882 - val_accuracy: 0.9583\n",
            "Epoch 13/100\n",
            "109/109 [==============================] - 14s 127ms/step - loss: 0.2790 - accuracy: 0.8868 - val_loss: 0.0318 - val_accuracy: 1.0000\n",
            "Epoch 14/100\n",
            "109/109 [==============================] - 14s 127ms/step - loss: 0.2855 - accuracy: 0.8753 - val_loss: 0.0843 - val_accuracy: 0.9792\n",
            "Epoch 15/100\n",
            "109/109 [==============================] - 15s 135ms/step - loss: 0.2284 - accuracy: 0.9122 - val_loss: 0.1422 - val_accuracy: 0.9375\n",
            "Epoch 16/100\n",
            "109/109 [==============================] - 14s 128ms/step - loss: 0.2232 - accuracy: 0.8961 - val_loss: 0.0275 - val_accuracy: 1.0000\n",
            "Epoch 17/100\n",
            "109/109 [==============================] - 14s 128ms/step - loss: 0.1953 - accuracy: 0.9076 - val_loss: 0.0344 - val_accuracy: 1.0000\n",
            "Epoch 18/100\n",
            "109/109 [==============================] - 14s 126ms/step - loss: 0.2126 - accuracy: 0.9122 - val_loss: 0.0307 - val_accuracy: 1.0000\n",
            "Epoch 19/100\n",
            "109/109 [==============================] - 14s 126ms/step - loss: 0.1984 - accuracy: 0.9169 - val_loss: 0.0233 - val_accuracy: 1.0000\n",
            "Epoch 20/100\n",
            "109/109 [==============================] - 14s 127ms/step - loss: 0.2097 - accuracy: 0.9169 - val_loss: 0.0490 - val_accuracy: 0.9792\n",
            "Epoch 21/100\n",
            "109/109 [==============================] - 14s 128ms/step - loss: 0.2327 - accuracy: 0.9053 - val_loss: 0.0130 - val_accuracy: 1.0000\n",
            "Epoch 22/100\n",
            "109/109 [==============================] - 14s 131ms/step - loss: 0.2502 - accuracy: 0.9030 - val_loss: 0.2037 - val_accuracy: 0.9167\n",
            "Epoch 23/100\n",
            "109/109 [==============================] - 14s 128ms/step - loss: 0.1959 - accuracy: 0.9261 - val_loss: 0.0387 - val_accuracy: 0.9792\n",
            "Epoch 24/100\n",
            "109/109 [==============================] - 14s 125ms/step - loss: 0.2855 - accuracy: 0.8753 - val_loss: 0.0333 - val_accuracy: 1.0000\n",
            "Epoch 25/100\n",
            "109/109 [==============================] - 14s 126ms/step - loss: 0.2263 - accuracy: 0.9169 - val_loss: 0.0188 - val_accuracy: 1.0000\n",
            "Epoch 26/100\n",
            "109/109 [==============================] - 14s 127ms/step - loss: 0.2174 - accuracy: 0.9169 - val_loss: 0.0156 - val_accuracy: 1.0000\n",
            "Epoch 27/100\n",
            "109/109 [==============================] - 14s 128ms/step - loss: 0.1914 - accuracy: 0.9376 - val_loss: 0.0307 - val_accuracy: 0.9792\n",
            "Epoch 28/100\n",
            "109/109 [==============================] - 14s 132ms/step - loss: 0.2212 - accuracy: 0.8961 - val_loss: 0.0217 - val_accuracy: 1.0000\n",
            "Epoch 29/100\n",
            "109/109 [==============================] - 14s 128ms/step - loss: 0.1913 - accuracy: 0.9169 - val_loss: 0.0268 - val_accuracy: 1.0000\n",
            "Epoch 30/100\n",
            "109/109 [==============================] - 14s 130ms/step - loss: 0.2772 - accuracy: 0.8915 - val_loss: 0.0428 - val_accuracy: 1.0000\n",
            "Epoch 31/100\n",
            "109/109 [==============================] - 16s 143ms/step - loss: 0.1886 - accuracy: 0.9169 - val_loss: 0.0394 - val_accuracy: 1.0000\n",
            "Epoch 32/100\n",
            "109/109 [==============================] - 15s 137ms/step - loss: 0.1730 - accuracy: 0.9261 - val_loss: 0.0546 - val_accuracy: 0.9792\n",
            "Epoch 33/100\n",
            "109/109 [==============================] - 14s 125ms/step - loss: 0.2194 - accuracy: 0.9060 - val_loss: 0.0356 - val_accuracy: 0.9792\n",
            "Epoch 34/100\n",
            "109/109 [==============================] - 14s 129ms/step - loss: 0.2013 - accuracy: 0.9053 - val_loss: 0.0211 - val_accuracy: 1.0000\n",
            "Epoch 35/100\n",
            "109/109 [==============================] - 13s 122ms/step - loss: 0.2394 - accuracy: 0.9007 - val_loss: 0.0189 - val_accuracy: 1.0000\n",
            "Epoch 36/100\n",
            "109/109 [==============================] - 14s 126ms/step - loss: 0.2337 - accuracy: 0.9007 - val_loss: 0.0479 - val_accuracy: 0.9792\n",
            "Epoch 37/100\n",
            "109/109 [==============================] - 14s 128ms/step - loss: 0.1499 - accuracy: 0.9469 - val_loss: 0.0215 - val_accuracy: 1.0000\n",
            "Epoch 38/100\n",
            "109/109 [==============================] - 14s 128ms/step - loss: 0.2414 - accuracy: 0.8845 - val_loss: 0.0183 - val_accuracy: 1.0000\n",
            "Epoch 39/100\n",
            "109/109 [==============================] - 15s 131ms/step - loss: 0.1620 - accuracy: 0.9238 - val_loss: 0.0205 - val_accuracy: 1.0000\n",
            "Epoch 40/100\n",
            "109/109 [==============================] - 14s 128ms/step - loss: 0.1802 - accuracy: 0.9261 - val_loss: 0.0138 - val_accuracy: 1.0000\n",
            "Epoch 41/100\n",
            "109/109 [==============================] - 14s 128ms/step - loss: 0.2597 - accuracy: 0.8891 - val_loss: 0.0264 - val_accuracy: 1.0000\n",
            "Epoch 42/100\n",
            "109/109 [==============================] - 14s 126ms/step - loss: 0.1614 - accuracy: 0.9330 - val_loss: 0.0100 - val_accuracy: 1.0000\n",
            "Epoch 43/100\n",
            "109/109 [==============================] - 15s 133ms/step - loss: 0.1442 - accuracy: 0.9284 - val_loss: 0.0131 - val_accuracy: 1.0000\n",
            "Epoch 44/100\n",
            "109/109 [==============================] - 14s 129ms/step - loss: 0.2138 - accuracy: 0.9030 - val_loss: 0.0313 - val_accuracy: 1.0000\n",
            "Epoch 45/100\n",
            "109/109 [==============================] - 14s 125ms/step - loss: 0.2589 - accuracy: 0.8822 - val_loss: 0.0296 - val_accuracy: 1.0000\n",
            "Epoch 46/100\n",
            "109/109 [==============================] - 14s 128ms/step - loss: 0.1847 - accuracy: 0.9122 - val_loss: 0.0200 - val_accuracy: 1.0000\n",
            "Epoch 47/100\n",
            "109/109 [==============================] - 14s 126ms/step - loss: 0.2246 - accuracy: 0.8984 - val_loss: 0.0144 - val_accuracy: 1.0000\n",
            "Epoch 48/100\n",
            "109/109 [==============================] - 14s 132ms/step - loss: 0.2414 - accuracy: 0.8961 - val_loss: 0.0210 - val_accuracy: 1.0000\n",
            "Epoch 49/100\n",
            "109/109 [==============================] - 14s 125ms/step - loss: 0.1968 - accuracy: 0.9284 - val_loss: 0.0144 - val_accuracy: 1.0000\n",
            "Epoch 50/100\n",
            "109/109 [==============================] - 14s 127ms/step - loss: 0.1658 - accuracy: 0.9353 - val_loss: 0.0128 - val_accuracy: 1.0000\n",
            "Epoch 51/100\n",
            "109/109 [==============================] - 14s 126ms/step - loss: 0.2275 - accuracy: 0.9099 - val_loss: 0.0340 - val_accuracy: 1.0000\n",
            "Epoch 52/100\n",
            "109/109 [==============================] - 13s 123ms/step - loss: 0.2027 - accuracy: 0.9122 - val_loss: 0.0241 - val_accuracy: 1.0000\n",
            "Epoch 53/100\n",
            "109/109 [==============================] - 14s 128ms/step - loss: 0.2001 - accuracy: 0.9145 - val_loss: 0.0101 - val_accuracy: 1.0000\n",
            "Epoch 54/100\n",
            "109/109 [==============================] - 16s 143ms/step - loss: 0.1900 - accuracy: 0.9215 - val_loss: 0.0340 - val_accuracy: 0.9792\n",
            "Epoch 55/100\n",
            "109/109 [==============================] - 14s 125ms/step - loss: 0.1531 - accuracy: 0.9376 - val_loss: 0.0105 - val_accuracy: 1.0000\n",
            "Epoch 56/100\n",
            "109/109 [==============================] - 14s 129ms/step - loss: 0.1195 - accuracy: 0.9538 - val_loss: 0.0117 - val_accuracy: 1.0000\n",
            "Epoch 57/100\n",
            "109/109 [==============================] - 14s 122ms/step - loss: 0.1676 - accuracy: 0.9330 - val_loss: 0.0056 - val_accuracy: 1.0000\n",
            "Epoch 58/100\n",
            "109/109 [==============================] - 14s 129ms/step - loss: 0.2002 - accuracy: 0.8961 - val_loss: 0.0131 - val_accuracy: 1.0000\n",
            "Epoch 59/100\n",
            "109/109 [==============================] - 13s 123ms/step - loss: 0.2403 - accuracy: 0.9007 - val_loss: 0.0360 - val_accuracy: 0.9792\n",
            "Epoch 60/100\n",
            "109/109 [==============================] - 15s 139ms/step - loss: 0.1721 - accuracy: 0.9284 - val_loss: 0.0230 - val_accuracy: 1.0000\n",
            "Epoch 61/100\n",
            "109/109 [==============================] - 14s 125ms/step - loss: 0.1644 - accuracy: 0.9400 - val_loss: 0.0351 - val_accuracy: 0.9792\n",
            "Epoch 62/100\n",
            "109/109 [==============================] - 14s 126ms/step - loss: 0.1625 - accuracy: 0.9376 - val_loss: 0.0212 - val_accuracy: 1.0000\n",
            "Epoch 63/100\n",
            "109/109 [==============================] - 14s 126ms/step - loss: 0.1966 - accuracy: 0.9053 - val_loss: 0.0190 - val_accuracy: 1.0000\n",
            "Epoch 64/100\n",
            "109/109 [==============================] - 14s 124ms/step - loss: 0.2005 - accuracy: 0.8984 - val_loss: 0.0163 - val_accuracy: 1.0000\n",
            "Epoch 65/100\n",
            "109/109 [==============================] - 14s 125ms/step - loss: 0.1672 - accuracy: 0.9192 - val_loss: 0.0120 - val_accuracy: 1.0000\n",
            "Epoch 66/100\n",
            "109/109 [==============================] - 14s 127ms/step - loss: 0.1539 - accuracy: 0.9469 - val_loss: 0.0153 - val_accuracy: 1.0000\n",
            "Epoch 67/100\n",
            "109/109 [==============================] - 14s 125ms/step - loss: 0.2101 - accuracy: 0.9053 - val_loss: 0.0185 - val_accuracy: 1.0000\n",
            "Epoch 68/100\n",
            "109/109 [==============================] - 14s 131ms/step - loss: 0.1894 - accuracy: 0.9192 - val_loss: 0.0187 - val_accuracy: 1.0000\n",
            "Epoch 69/100\n",
            "109/109 [==============================] - 14s 127ms/step - loss: 0.1633 - accuracy: 0.9423 - val_loss: 0.0385 - val_accuracy: 0.9792\n",
            "Epoch 70/100\n",
            "109/109 [==============================] - 14s 124ms/step - loss: 0.1100 - accuracy: 0.9607 - val_loss: 0.0195 - val_accuracy: 1.0000\n",
            "Epoch 71/100\n",
            "109/109 [==============================] - 14s 124ms/step - loss: 0.1484 - accuracy: 0.9307 - val_loss: 0.0125 - val_accuracy: 1.0000\n",
            "Epoch 72/100\n",
            "109/109 [==============================] - 14s 127ms/step - loss: 0.2353 - accuracy: 0.8891 - val_loss: 0.0204 - val_accuracy: 1.0000\n",
            "Epoch 73/100\n",
            "109/109 [==============================] - 13s 122ms/step - loss: 0.1556 - accuracy: 0.9238 - val_loss: 0.0322 - val_accuracy: 0.9792\n",
            "Epoch 74/100\n",
            "109/109 [==============================] - 14s 125ms/step - loss: 0.1911 - accuracy: 0.9099 - val_loss: 0.0231 - val_accuracy: 1.0000\n",
            "Epoch 75/100\n",
            "109/109 [==============================] - 13s 121ms/step - loss: 0.1695 - accuracy: 0.9215 - val_loss: 0.0176 - val_accuracy: 1.0000\n",
            "Epoch 76/100\n",
            "109/109 [==============================] - 14s 129ms/step - loss: 0.1390 - accuracy: 0.9446 - val_loss: 0.0223 - val_accuracy: 1.0000\n",
            "Epoch 77/100\n",
            "109/109 [==============================] - 14s 125ms/step - loss: 0.1568 - accuracy: 0.9307 - val_loss: 0.0443 - val_accuracy: 1.0000\n",
            "Epoch 78/100\n",
            "109/109 [==============================] - 14s 125ms/step - loss: 0.1190 - accuracy: 0.9446 - val_loss: 0.0496 - val_accuracy: 0.9792\n",
            "Epoch 79/100\n",
            "109/109 [==============================] - 14s 131ms/step - loss: 0.2138 - accuracy: 0.8938 - val_loss: 0.1037 - val_accuracy: 0.9583\n",
            "Epoch 80/100\n",
            "109/109 [==============================] - 14s 126ms/step - loss: 0.1586 - accuracy: 0.9446 - val_loss: 0.0211 - val_accuracy: 1.0000\n",
            "Epoch 81/100\n",
            "109/109 [==============================] - 14s 127ms/step - loss: 0.1707 - accuracy: 0.9284 - val_loss: 0.0109 - val_accuracy: 1.0000\n",
            "Epoch 82/100\n",
            "109/109 [==============================] - 14s 127ms/step - loss: 0.1630 - accuracy: 0.9215 - val_loss: 0.0376 - val_accuracy: 0.9792\n",
            "Epoch 83/100\n",
            "109/109 [==============================] - 14s 125ms/step - loss: 0.1849 - accuracy: 0.9284 - val_loss: 0.0146 - val_accuracy: 1.0000\n",
            "Epoch 84/100\n",
            "109/109 [==============================] - 14s 127ms/step - loss: 0.1471 - accuracy: 0.9261 - val_loss: 0.0176 - val_accuracy: 1.0000\n",
            "Epoch 85/100\n",
            "109/109 [==============================] - 14s 125ms/step - loss: 0.1530 - accuracy: 0.9145 - val_loss: 0.0217 - val_accuracy: 1.0000\n",
            "Epoch 86/100\n",
            "109/109 [==============================] - 14s 127ms/step - loss: 0.0945 - accuracy: 0.9607 - val_loss: 0.0106 - val_accuracy: 1.0000\n",
            "Epoch 87/100\n",
            "109/109 [==============================] - 14s 126ms/step - loss: 0.1863 - accuracy: 0.9030 - val_loss: 0.0176 - val_accuracy: 1.0000\n",
            "Epoch 88/100\n",
            "109/109 [==============================] - 14s 123ms/step - loss: 0.1723 - accuracy: 0.9238 - val_loss: 0.0161 - val_accuracy: 1.0000\n",
            "Epoch 89/100\n",
            "109/109 [==============================] - 15s 135ms/step - loss: 0.1681 - accuracy: 0.9284 - val_loss: 0.0180 - val_accuracy: 1.0000\n",
            "Epoch 90/100\n",
            "109/109 [==============================] - 14s 126ms/step - loss: 0.1471 - accuracy: 0.9330 - val_loss: 0.0131 - val_accuracy: 1.0000\n",
            "Epoch 91/100\n",
            "109/109 [==============================] - 14s 127ms/step - loss: 0.1900 - accuracy: 0.9076 - val_loss: 0.0139 - val_accuracy: 1.0000\n",
            "Epoch 92/100\n",
            "109/109 [==============================] - 14s 127ms/step - loss: 0.1109 - accuracy: 0.9492 - val_loss: 0.0247 - val_accuracy: 1.0000\n",
            "Epoch 93/100\n",
            "109/109 [==============================] - 14s 124ms/step - loss: 0.1117 - accuracy: 0.9469 - val_loss: 0.0101 - val_accuracy: 1.0000\n",
            "Epoch 94/100\n",
            "109/109 [==============================] - 14s 130ms/step - loss: 0.1489 - accuracy: 0.9284 - val_loss: 0.0232 - val_accuracy: 1.0000\n",
            "Epoch 95/100\n",
            "109/109 [==============================] - 14s 126ms/step - loss: 0.1205 - accuracy: 0.9400 - val_loss: 0.0075 - val_accuracy: 1.0000\n",
            "Epoch 96/100\n",
            "109/109 [==============================] - 14s 125ms/step - loss: 0.1697 - accuracy: 0.9238 - val_loss: 0.0590 - val_accuracy: 0.9792\n",
            "Epoch 97/100\n",
            "109/109 [==============================] - 14s 129ms/step - loss: 0.1523 - accuracy: 0.9376 - val_loss: 0.0275 - val_accuracy: 1.0000\n",
            "Epoch 98/100\n",
            "109/109 [==============================] - 14s 128ms/step - loss: 0.1027 - accuracy: 0.9584 - val_loss: 0.0164 - val_accuracy: 1.0000\n",
            "Epoch 99/100\n",
            "109/109 [==============================] - 14s 130ms/step - loss: 0.2164 - accuracy: 0.9053 - val_loss: 0.0318 - val_accuracy: 1.0000\n",
            "Epoch 100/100\n",
            "109/109 [==============================] - 14s 125ms/step - loss: 0.1031 - accuracy: 0.9584 - val_loss: 0.0195 - val_accuracy: 1.0000\n"
          ]
        }
      ]
    },
    {
      "cell_type": "code",
      "source": [
        "f, (ax1, ax2) = plt.subplots(1, 2, figsize=(12, 4))\n",
        "t = f.suptitle('CNN Performance', fontsize=12)\n",
        "f.subplots_adjust(top=0.85, wspace=0.3)\n",
        "\n",
        "max_epoch = len(history.history['accuracy'])+1\n",
        "epoch_list = list(range(1,max_epoch))\n",
        "ax1.plot(epoch_list, history.history['accuracy'], label='Train Accuracy')\n",
        "ax1.plot(epoch_list, history.history['val_accuracy'], label='Validation Accuracy')\n",
        "ax1.set_xticks(np.arange(1, max_epoch, 5))\n",
        "ax1.set_ylabel('Accuracy Value')\n",
        "ax1.set_xlabel('Epoch')\n",
        "ax1.set_title('Accuracy')\n",
        "l1 = ax1.legend(loc=\"best\")\n",
        "\n",
        "ax2.plot(epoch_list, history.history['loss'], label='Train Loss')\n",
        "ax2.plot(epoch_list, history.history['val_loss'], label='Validation Loss')\n",
        "ax2.set_xticks(np.arange(1, max_epoch, 5))\n",
        "ax2.set_ylabel('Loss Value')\n",
        "ax2.set_xlabel('Epoch')\n",
        "ax2.set_title('Loss')\n",
        "l2 = ax2.legend(loc=\"best\")\n",
        "\n",
        "\n",
        "#Save the model\n",
        "model.save('model.h5')"
      ],
      "metadata": {
        "colab": {
          "base_uri": "https://localhost:8080/",
          "height": 428
        },
        "id": "T3JozW_pNf5K",
        "outputId": "2892ba89-18eb-4267-cf3b-f0b2a8e6c46b"
      },
      "execution_count": 28,
      "outputs": [
        {
          "output_type": "display_data",
          "data": {
            "text/plain": [
              "<Figure size 1200x400 with 2 Axes>"
            ],
            "image/png": "[encoded data removed]"
          },
          "metadata": {}
        }
      ]
    },
    {
      "cell_type": "code",
      "source": [],
      "metadata": {
        "id": "Y_VhnveQz3-g"
      },
      "execution_count": null,
      "outputs": []
    },
    {
      "cell_type": "code",
      "source": [
        "from tensorflow.keras.models import load_model\n",
        "\n",
        "# Load the saved model\n",
        "model = load_model('/content/drive/MyDrive/model.h5')  # Replace with the path to your saved model\n"
      ],
      "metadata": {
        "id": "x3a-075c2Qah"
      },
      "execution_count": 41,
      "outputs": []
    },
    {
      "cell_type": "code",
      "source": [
        "class_names = [\"Not_Resume\", \"Resume\"]\n"
      ],
      "metadata": {
        "id": "r87IHs_U2Zui"
      },
      "execution_count": 42,
      "outputs": []
    },
    {
      "cell_type": "code",
      "source": [
        "from tensorflow.keras.preprocessing.image import ImageDataGenerator\n",
        "\n",
        "# Specify the path to your test data\n",
        "test_data_path = '/content/Test_DATA'  # Replace with the path to your test data folder\n",
        "\n",
        "# Create an ImageDataGenerator for testing (use the same preprocessing as for training)\n",
        "test_datagen = ImageDataGenerator(rescale=1./255)  # You can add more preprocessing options if needed\n",
        "\n",
        "# Create a test generator\n",
        "test_generator = test_datagen.flow_from_directory(\n",
        "    test_data_path,\n",
        "    target_size=(640, 640),  # Adjust the target size based on your model's input size\n",
        "    batch_size=4,\n",
        "    class_mode='binary',  # Since you have a binary classification problem\n",
        "    shuffle=False  # Do not shuffle for evaluation\n",
        ")\n"
      ],
      "metadata": {
        "id": "EsDcgV9j2fXh",
        "outputId": "a2327e7f-6a4c-4f50-f1f8-d18f139b868e",
        "colab": {
          "base_uri": "https://localhost:8080/"
        }
      },
      "execution_count": 43,
      "outputs": [
        {
          "output_type": "stream",
          "name": "stdout",
          "text": [
            "Found 120 images belonging to 2 classes.\n"
          ]
        }
      ]
    },
    {
      "cell_type": "code",
      "source": [
        "test_loss, test_accuracy = model.evaluate(test_generator)\n",
        "print(f'Test Accuracy: {test_accuracy * 100:.2f}%')\n",
        "print(f'Test Loss: {test_loss:.4f}')\n"
      ],
      "metadata": {
        "id": "FkpbGEGV2pK_",
        "outputId": "602cf80a-2549-4e86-a24a-d826b1bacd97",
        "colab": {
          "base_uri": "https://localhost:8080/"
        }
      },
      "execution_count": 44,
      "outputs": [
        {
          "output_type": "stream",
          "name": "stdout",
          "text": [
            "30/30 [==============================] - 191s 6s/step - loss: 0.0059 - accuracy: 1.0000\n",
            "Test Accuracy: 100.00%\n",
            "Test Loss: 0.0059\n"
          ]
        }
      ]
    },
    {
      "cell_type": "code",
      "source": [
        "# Get predictions for the test data\n",
        "y_pred_probs = model.predict(test_generator)\n",
        "\n",
        "# Convert probabilities to class labels using a threshold (e.g., 0.5)\n",
        "y_pred_classes = (y_pred_probs >= 0.5).astype(int)\n"
      ],
      "metadata": {
        "id": "jkYDyGED3Mru",
        "outputId": "e54123ef-af23-4c63-8d24-0ac7a10be995",
        "colab": {
          "base_uri": "https://localhost:8080/"
        }
      },
      "execution_count": 45,
      "outputs": [
        {
          "output_type": "stream",
          "name": "stdout",
          "text": [
            "30/30 [==============================] - 184s 6s/step\n"
          ]
        }
      ]
    },
    {
      "cell_type": "code",
      "source": [
        "from sklearn.metrics import confusion_matrix, classification_report\n",
        "import seaborn as sns\n",
        "import matplotlib.pyplot as plt\n",
        "\n",
        "# Get true labels from the generator\n",
        "y_true = test_generator.classes\n",
        "\n",
        "# Calculate confusion matrix\n",
        "cm = confusion_matrix(y_true, y_pred_classes)\n",
        "\n",
        "# Plot confusion matrix\n",
        "plt.figure(figsize=(6, 6))\n",
        "sns.heatmap(cm, annot=True, fmt='d', cmap='Blues', xticklabels=class_names, yticklabels=class_names)\n",
        "plt.title('Confusion Matrix')\n",
        "plt.xlabel('Predicted')\n",
        "plt.ylabel('True')\n",
        "plt.show()\n",
        "\n",
        "# Calculate and print classification report\n",
        "report = classification_report(y_true, y_pred_classes, target_names=class_names)\n",
        "print(report)\n"
      ],
      "metadata": {
        "id": "qqUzQ5m93Usl",
        "outputId": "ba8858f8-7103-4818-beef-721d48c42761",
        "colab": {
          "base_uri": "https://localhost:8080/",
          "height": 720
        }
      },
      "execution_count": 46,
      "outputs": [
        {
          "output_type": "display_data",
          "data": {
            "text/plain": [
              "<Figure size 600x600 with 2 Axes>"
            ],
            "image/png": "[encoded data removed]"
          },
          "metadata": {}
        },
        {
          "output_type": "stream",
          "name": "stdout",
          "text": [
            "              precision    recall  f1-score   support\n",
            "\n",
            "  Not_Resume       1.00      1.00      1.00        60\n",
            "      Resume       1.00      1.00      1.00        60\n",
            "\n",
            "    accuracy                           1.00       120\n",
            "   macro avg       1.00      1.00      1.00       120\n",
            "weighted avg       1.00      1.00      1.00       120\n",
            "\n"
          ]
        }
      ]
    },
    {
      "cell_type": "code",
      "source": [],
      "metadata": {
        "id": "R8uixQB34g5w"
      },
      "execution_count": null,
      "outputs": []
    },
    {
      "cell_type": "code",
      "source": [],
      "metadata": {
        "id": "NyTGhG144g9V"
      },
      "execution_count": null,
      "outputs": []
    },
    {
      "cell_type": "markdown",
      "source": [
        "# hyperparameter tuning"
      ],
      "metadata": {
        "id": "SD1cY-CU4joV"
      }
    },
    {
      "cell_type": "code",
      "source": [],
      "metadata": {
        "id": "94YY-sdP4g_-"
      },
      "execution_count": null,
      "outputs": []
    }
  ]
}